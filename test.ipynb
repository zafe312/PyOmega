{
 "cells": [
  {
   "cell_type": "code",
   "execution_count": 1,
   "id": "f2ec1009",
   "metadata": {},
   "outputs": [],
   "source": [
    "import sys\n",
    "sys.path.append(\"Model/ScalarSingletDM_UFO\")\n",
    "\n",
    "import particles\n",
    "import parameters\n",
    "import couplings\n",
    "import lorentz\n",
    "import vertices"
   ]
  },
  {
   "cell_type": "code",
   "execution_count": 2,
   "id": "fed3606f",
   "metadata": {},
   "outputs": [
    {
     "name": "stdout",
     "output_type": "stream",
     "text": [
      "nu1 2 1 ZERO ZERO 12\n",
      "nu1bar 2 1 ZERO ZERO -12\n",
      "nu2 2 1 ZERO ZERO 14\n",
      "nu2bar 2 1 ZERO ZERO -14\n",
      "nu3 2 1 ZERO ZERO 16\n",
      "nu3bar 2 1 ZERO ZERO -16\n",
      "d1 2 3 Md1 ZERO 1\n",
      "d1bar 2 -3 Md1 ZERO -1\n",
      "d2 2 3 Md2 ZERO 3\n",
      "d2bar 2 -3 Md2 ZERO -3\n",
      "d3 2 3 Md3 ZERO 5\n",
      "d3bar 2 -3 Md3 ZERO -5\n",
      "u1 2 3 Mu1 ZERO 2\n",
      "u1bar 2 -3 Mu1 ZERO -2\n",
      "u2 2 3 Mu2 ZERO 4\n",
      "u2bar 2 -3 Mu2 ZERO -4\n",
      "u3 2 3 Mu3 Wu3 6\n",
      "u3bar 2 -3 Mu3 Wu3 -6\n",
      "e1 2 1 Me1 ZERO 11\n",
      "e1bar 2 1 Me1 ZERO -11\n",
      "e2 2 1 Me2 ZERO 13\n",
      "e2bar 2 1 Me2 ZERO -13\n",
      "e3 2 1 Me3 ZERO 15\n",
      "e3bar 2 1 Me3 ZERO -15\n",
      "Hp 1 1 ZERO ZERO 999900\n",
      "Hpc 1 1 ZERO ZERO -999900\n",
      "Ss 1 1 MSs ZERO 6666635\n",
      "Ah 1 1 ZERO ZERO 999901\n",
      "h 1 1 Mh Wh 25\n",
      "g 3 8 ZERO ZERO 21\n",
      "A 3 1 ZERO ZERO 22\n",
      "Z 3 1 MZ WZ 23\n",
      "Wp 3 1 MWp WWp 24\n",
      "Wpc 3 1 MWp WWp -24\n",
      "gG -1 8 ZERO ZERO 999902\n",
      "gGc -1 8 ZERO ZERO -999902\n",
      "gA -1 1 ZERO ZERO 999903\n",
      "gAc -1 1 ZERO ZERO -999903\n",
      "gZ -1 1 MZ WZ 999904\n",
      "gZc -1 1 MZ WZ -999904\n",
      "gWp -1 1 MWp WWp 999905\n",
      "gWpc -1 1 MWp WWp -999905\n",
      "gWC -1 1 MWp WWp 999906\n",
      "gWCc -1 1 MWp WWp -999906\n"
     ]
    }
   ],
   "source": [
    "from particles import all_particles\n",
    "for p in all_particles:\n",
    "    print(p.name, p.spin, p.color, p.mass, p.width, p.pdg_code)"
   ]
  },
  {
   "cell_type": "code",
   "execution_count": null,
   "id": "0df67e86",
   "metadata": {},
   "outputs": [],
   "source": []
  }
 ],
 "metadata": {
  "kernelspec": {
   "display_name": "venv",
   "language": "python",
   "name": "python3"
  },
  "language_info": {
   "codemirror_mode": {
    "name": "ipython",
    "version": 3
   },
   "file_extension": ".py",
   "mimetype": "text/x-python",
   "name": "python",
   "nbconvert_exporter": "python",
   "pygments_lexer": "ipython3",
   "version": "3.12.6"
  }
 },
 "nbformat": 4,
 "nbformat_minor": 5
}
